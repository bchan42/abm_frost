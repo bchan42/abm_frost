{
 "cells": [
  {
   "cell_type": "markdown",
   "metadata": {},
   "source": [
    "# Diffusion Model in a 2D Box & Potential Map\n",
    "- both simulated Diffusion Model & Potential Map"
   ]
  },
  {
   "cell_type": "code",
   "execution_count": 1,
   "metadata": {},
   "outputs": [],
   "source": [
    "import numpy as np\n",
    "import matplotlib.pyplot as plt\n",
    "import random\n",
    "import seaborn as sns\n",
    "from matplotlib.animation import FuncAnimation"
   ]
  },
  {
   "cell_type": "markdown",
   "metadata": {},
   "source": [
    "## Initializations!"
   ]
  },
  {
   "cell_type": "code",
   "execution_count": 2,
   "metadata": {},
   "outputs": [],
   "source": [
    "# initialize parameters\n",
    "Lx, Ly = 2, 3\n",
    "Nx, Ny = 8, 12\n",
    "dx, dy = Lx / Nx, Ly / Ny\n",
    "N = 15\n",
    "D, dt = 5.13e-6, 1000\n",
    "pmove = (D * 3 * dt) / dx ** 2  # movement probability\n",
    "\n",
    "# initialize grid and ions\n",
    "grid = np.zeros((Nx, Ny), dtype=int)\n",
    "ion_x = np.mod(np.random.normal(0.3 * Lx, 0.5, N), Lx)\n",
    "ion_y = np.mod(np.random.normal(0.3 * Ly, 0.5, N), Ly)\n",
    "ion_i = np.ceil(ion_x / dx).astype(int)\n",
    "ion_j = np.ceil(ion_y / dy).astype(int)\n",
    "\n",
    "for i in range(N):\n",
    "    grid[ion_i[i] % Nx, ion_j[i] % Ny] += 1"
   ]
  },
  {
   "cell_type": "markdown",
   "metadata": {},
   "source": [
    "## Helper Functions"
   ]
  },
  {
   "cell_type": "code",
   "execution_count": 3,
   "metadata": {},
   "outputs": [],
   "source": [
    "# randomly select one of up, down, left, right neighbors (used in algorithm)\n",
    "def select_random_neighbor(x, y):\n",
    "    neighbors = [\n",
    "        ((x - 1) % Nx, y),\n",
    "        ((x + 1) % Nx, y),\n",
    "        (x, (y - 1) % Ny),\n",
    "        (x, (y + 1) % Ny)\n",
    "    ]\n",
    "    return random.choice(neighbors)"
   ]
  },
  {
   "cell_type": "code",
   "execution_count": 4,
   "metadata": {},
   "outputs": [],
   "source": [
    "# single neighborhood attempt algorithm\n",
    "def diffuse(grid, ion_positions, pmove):\n",
    "    new_grid = np.copy(grid)\n",
    "    new_ion_positions = np.copy(ion_positions)\n",
    "\n",
    "    for i in range(N):\n",
    "        x, y = ion_positions[i]  # create variable, instead of 2 for loops for x, y\n",
    "        if grid[x, y] != 0:  # if cell not empty\n",
    "            nbr_x, nbr_y = select_random_neighbor(x, y)  # select random neighbor\n",
    "            if grid[nbr_x, nbr_y] == 0:  # if neighbor is empty\n",
    "                if pmove > random.random():  # if Pmove > RND\n",
    "                    new_grid[nbr_x, nbr_y] += 1  # move ion to neighboring cell\n",
    "                    new_grid[x, y] -= 1\n",
    "                    new_ion_positions[i] = (nbr_x, nbr_y)\n",
    "\n",
    "    return new_grid, new_ion_positions"
   ]
  },
  {
   "cell_type": "code",
   "execution_count": 5,
   "metadata": {},
   "outputs": [],
   "source": [
    "# function that checks if ions have really diffused everywhere (uniform distribution)\n",
    "# (this is just one method: grid coverage)\n",
    "    # other ideas: spatial analysis scipy package, run many iterations & see when diffusion stabilizes\n",
    "# makes sure that sd of num of ions per cell >= set threshold\n",
    "def has_diffused_uniformly(grid, threshold=1.96):  #\n",
    "    ion_counts = grid.flatten()\n",
    "    mean = np.mean(ion_counts)\n",
    "    std_dev = np.std(ion_counts)\n",
    "    print(std_dev / mean)\n",
    "    return std_dev / mean < threshold\n",
    "\n",
    "# find lowest standard deviation possible (or after a few iterations) and terminate program"
   ]
  },
  {
   "cell_type": "code",
   "execution_count": 6,
   "metadata": {},
   "outputs": [],
   "source": [
    "# initialize plotting area\n",
    "# create subplots for ion positions and potential map\n",
    "# set up the initial conditions for the plots, including creating a color bar for the heatmap\n",
    "def setup_plot():\n",
    "    global fig, ax, potential_ax\n",
    "    fig, (ax, potential_ax) = plt.subplots(1, 2, figsize=(15, 6))  # create figure and subplots\n",
    "\n",
    "    initial_potential_map = np.zeros((Nx, Ny))  # initialize potential map with zeros\n",
    "    heatmap = sns.heatmap(initial_potential_map, ax=potential_ax, cmap='viridis', cbar=True, vmin=0, vmax=np.max(grid))\n",
    "    colorbar = heatmap.collections[0].colorbar\n",
    "    colorbar.set_label('Potential')  # create a heatmap with a color bar\n",
    "\n",
    "    # potential_ax.clear()  # clear potential axis to prepare it for dynamic updates\n",
    "    sns.heatmap(np.zeros((Nx, Ny)), ax=potential_ax, cmap='viridis', cbar=False, vmin=0, vmax=np.max(grid))"
   ]
  },
  {
   "cell_type": "code",
   "execution_count": 7,
   "metadata": {},
   "outputs": [],
   "source": [
    "# update ion positions and grid for a given number of steps\n",
    "# redraw plots to reflect the updated state\n",
    "# visuals\n",
    "# check for uniform diffusion and terminate the animation if the condition is met\n",
    "def animate(t):\n",
    "    global grid, ion_positions\n",
    "    steps_per_frame = 1  # num of diffusion steps per animation frame\n",
    "    for _ in range(steps_per_frame):\n",
    "        grid, ion_positions = diffuse(grid, ion_positions, pmove)  # update grid and ion positions\n",
    "        print(_, \"time step\")\n",
    "        print(grid)\n",
    "        print()\n",
    "\n",
    "    ax.clear()  # clear previous plot\n",
    "    ax.set_xlim(0, Ny)\n",
    "    ax.set_ylim(0, Nx)\n",
    "    ax.set_title(f'Diffusion in a 2D Box - Time Step {t * steps_per_frame}')\n",
    "    ax.set_xlabel('Ny')\n",
    "    ax.set_ylabel('Nx')\n",
    "\n",
    "    sns.scatterplot(x=ion_positions[:, 1], y=ion_positions[:, 0], ax=ax)  # plot ion positions\n",
    "\n",
    "    potential_map = grid.astype(float)  # compute & plot potential map as heatmap\n",
    "    heatmap = sns.heatmap(potential_map, ax=potential_ax, cmap='viridis', cbar=False, vmin=0, vmax=np.max(grid))\n",
    "\n",
    "    potential_ax.set_xlabel('Ny')\n",
    "    potential_ax.set_ylabel('Nx')\n",
    "    potential_ax.set_title('Potential Map')  # labels for potential map\n",
    "\n",
    "    if has_diffused_uniformly(grid):  # check if ions fully diffused\n",
    "        ani.event_source.stop()  # stop animation if true"
   ]
  },
  {
   "cell_type": "markdown",
   "metadata": {},
   "source": [
    "## Run Simulation & Animate Both Graphs"
   ]
  },
  {
   "cell_type": "code",
   "execution_count": null,
   "metadata": {},
   "outputs": [],
   "source": [
    "ion_positions = np.column_stack((ion_i % Nx, ion_j % Ny))\n",
    "setup_plot()\n",
    "ani = FuncAnimation(fig, animate, frames=1000, interval=50, repeat=False)\n",
    "\n",
    "# ani.save(\"diffusion_animation.mp4\", writer=\"ffmpeg\", fps=20)  # save animation as mp4 file\n",
    "\n",
    "plt.show()"
   ]
  },
  {
   "cell_type": "markdown",
   "metadata": {},
   "source": [
    "save animation later?"
   ]
  }
 ],
 "metadata": {
  "kernelspec": {
   "display_name": "Python 3",
   "language": "python",
   "name": "python3"
  },
  "language_info": {
   "codemirror_mode": {
    "name": "ipython",
    "version": 3
   },
   "file_extension": ".py",
   "mimetype": "text/x-python",
   "name": "python",
   "nbconvert_exporter": "python",
   "pygments_lexer": "ipython3",
   "version": "3.12.2"
  }
 },
 "nbformat": 4,
 "nbformat_minor": 2
}
